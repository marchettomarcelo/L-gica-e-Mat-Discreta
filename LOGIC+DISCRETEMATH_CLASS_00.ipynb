{
  "cells": [
    {
      "cell_type": "markdown",
      "metadata": {
        "colab_type": "text",
        "id": "view-in-github"
      },
      "source": [
        "<a href=\"https://colab.research.google.com/github/lucianosilva-github/logicanddiscretemathematics/blob/main/LOGIC%2BDISCRETEMATH_CLASS_00.ipynb\" target=\"_parent\"><img src=\"https://colab.research.google.com/assets/colab-badge.svg\" alt=\"Open In Colab\"/></a>"
      ]
    },
    {
      "cell_type": "markdown",
      "metadata": {
        "id": "33EEpDW7pOaO"
      },
      "source": [
        "<div class=\"alert alert-block alert-info\">\n",
        "\n",
        "#**CLASS 00 - MOTIVATION TO LOGIC AND DISCRETE MATHEMATICS**\n",
        "**Learning Objectives:**\n",
        "*   Building a simple program to solve a simple discrete problem\n",
        "*   Refining this simple program\n",
        "*   Proving the program correctness\n",
        "*   Analysis of program efficiency\n",
        "\n",
        "</div>\n"
      ]
    },
    {
      "cell_type": "markdown",
      "metadata": {
        "id": "iyV-u81mKdDo"
      },
      "source": [
        "### **EXERCISE 1.** \n",
        "\n",
        "We define the factorial n! of an natural number as:\n",
        "\n",
        "*   0! = 1\n",
        "*   n! = nx(n-1)x(n-2)x...x2x1, if n>0\n",
        "\n",
        "Build an iteractive function fact(n) in Python to compute n! and test it:\n",
        "\n"
      ]
    },
    {
      "cell_type": "code",
      "execution_count": null,
      "metadata": {
        "id": "qqIisS25pMm5"
      },
      "outputs": [],
      "source": [
        "#TYPE YOUR SOLUTION HERE"
      ]
    },
    {
      "cell_type": "markdown",
      "metadata": {
        "id": "IiH2Xppf6rbg"
      },
      "source": [
        "### **EXERCISE 2.** \n",
        "\n",
        "Rewrite the function fact(n) in a simpler way and test it:"
      ]
    },
    {
      "cell_type": "code",
      "execution_count": null,
      "metadata": {
        "id": "Tc2TcLCK7BPw"
      },
      "outputs": [],
      "source": [
        "#TYPE YOUR SOLUTION HERE"
      ]
    },
    {
      "cell_type": "markdown",
      "metadata": {
        "id": "sWzDnukBLtoX"
      },
      "source": [
        "### **EXERCISE 3.** \n",
        "\n",
        "Prove that your function fact(n) computes n!:"
      ]
    },
    {
      "cell_type": "markdown",
      "metadata": {
        "id": "ferrSHvoMLtt"
      },
      "source": [
        "USE THIS CELL TO PROVE"
      ]
    },
    {
      "cell_type": "markdown",
      "metadata": {
        "id": "6RRRVjqpMVWM"
      },
      "source": [
        "### **EXERCISE 4.** \n",
        "\n",
        "How many multiplications does your fact(n) implementation use ?"
      ]
    },
    {
      "cell_type": "markdown",
      "metadata": {
        "id": "rICemo4iMnZA"
      },
      "source": [
        "USE THIS CELL TO COUNT THE NUMBER OF MULTIPLICATIONS"
      ]
    }
  ],
  "metadata": {
    "colab": {
      "authorship_tag": "ABX9TyPQGAup0DTC/K10b+srMrPp",
      "include_colab_link": true,
      "provenance": []
    },
    "kernelspec": {
      "display_name": "Python 3",
      "language": "python",
      "name": "python3"
    },
    "language_info": {
      "name": "python",
      "version": "3.11.1"
    },
    "vscode": {
      "interpreter": {
        "hash": "aee8b7b246df8f9039afb4144a1f6fd8d2ca17a180786b69acc140d282b71a49"
      }
    }
  },
  "nbformat": 4,
  "nbformat_minor": 0
}
